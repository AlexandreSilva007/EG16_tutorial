{
 "cells": [
  {
   "cell_type": "markdown",
   "metadata": {},
   "source": [
    "# Prerequisites\n",
    "Install Theano and Lasagne using the following commands:\n",
    "\n",
    "```bash\n",
    "pip install -r https://raw.githubusercontent.com/Lasagne/Lasagne/master/requirements.txt\n",
    "pip install https://github.com/Lasagne/Lasagne/archive/master.zip\n",
    "```\n",
    "\n",
    "Working in a virtual environment is recommended."
   ]
  },
  {
   "cell_type": "markdown",
   "metadata": {},
   "source": [
    "# Data preparation\n",
    "\n",
    "Current code allows to generate geodesic patches from a collection of shapes represented as triangular meshes.\n",
    "To get started with the pre-processing:\n",
    "```\n",
    "git clone https://github.com/jonathanmasci/ShapeNet_data_preparation_toolbox.git\n",
    "```\n",
    "\n",
    "The usual processing pipeline is show in ```run_forrest_run.m```. \n",
    "We will soon update this preparation stage, so perhaps better to start with our pre-computed dataset, and stay tuned! :-)"
   ]
  },
  {
   "cell_type": "markdown",
   "metadata": {},
   "source": [
    "## Prepared data\n",
    "\n",
    "All it is required to train on the FAUST_registration dataset for this demo is available for download at\n",
    "https://www.dropbox.com/s/aamd98nynkvbcop/EG16_tutorial.tar.bz2?dl=0"
   ]
  },
  {
   "cell_type": "markdown",
   "metadata": {},
   "source": [
    "# ICNN Toolbox\n",
    "\n",
    "```bash\n",
    "git clone https://github.com/jonathanmasci/EG16_tutorial.git\n",
    "```\n",
    "\n",
    "![](http://www.people.usi.ch/mascij/EG16_tutorial/shapenet_architecture.png)"
   ]
  },
  {
   "cell_type": "code",
   "execution_count": 1,
   "metadata": {
    "collapsed": false
   },
   "outputs": [
    {
     "name": "stdout",
     "output_type": "stream",
     "text": [
      "Couldn't import dot_parser, loading of dot files will not be possible.\n"
     ]
    },
    {
     "name": "stderr",
     "output_type": "stream",
     "text": [
      "Using gpu device 0: GeForce GTX TITAN Black (CNMeM is disabled, CuDNN 4007)\n"
     ]
    }
   ],
   "source": [
    "import sys\n",
    "import os\n",
    "import numpy as np\n",
    "import scipy.io\n",
    "import time\n",
    "\n",
    "import theano\n",
    "import theano.tensor as T\n",
    "import theano.sparse as Tsp\n",
    "\n",
    "import lasagne as L\n",
    "import lasagne.layers as LL\n",
    "import lasagne.objectives as LO\n",
    "from lasagne.layers.normalization import batch_norm\n",
    "\n",
    "sys.path.append('..')\n",
    "from icnn import utils_lasagne, dataset, snapshotter"
   ]
  },
  {
   "cell_type": "markdown",
   "metadata": {},
   "source": [
    "## Data loading"
   ]
  },
  {
   "cell_type": "code",
   "execution_count": 2,
   "metadata": {
    "collapsed": false
   },
   "outputs": [
    {
     "name": "stdout",
     "output_type": "stream",
     "text": [
      "Loading train descs\n",
      "elapsed time 8.474632\n",
      "Loading test descs\n",
      "elapsed time 2.089513\n",
      "Loading train patches\n",
      "elapsed time 32.411573\n",
      "Loading test patches\n",
      "elapsed time 8.183870\n",
      "Loading train labels\n",
      "elapsed time 0.315432\n",
      "Loading test labels\n",
      "elapsed time 0.059324\n"
     ]
    }
   ],
   "source": [
    "base_path = '/media/nas/EG16_tutorial/dataset/FAUST_registrations/data/diam=200/'\n",
    "\n",
    "ds = dataset.ClassificationDatasetPatchesMinimal(\n",
    "    'FAUST_registrations_train.txt', 'FAUST_registrations_test.txt',\n",
    "    os.path.join(base_path, 'descs', 'shot'),\n",
    "    os.path.join(base_path, 'patch_aniso', 'alpha=100_nangles=016_ntvals=005_tmin=6.000_tmax=24.000_thresh=99.900_norm=L1'), \n",
    "    None, \n",
    "    os.path.join(base_path, 'labels'),\n",
    "    epoch_size=50)"
   ]
  },
  {
   "cell_type": "markdown",
   "metadata": {},
   "source": [
    "## Network definition"
   ]
  },
  {
   "cell_type": "code",
   "execution_count": 3,
   "metadata": {
    "collapsed": false
   },
   "outputs": [],
   "source": [
    "nin = 544\n",
    "nclasses = 6890\n",
    "l2_weight = 1e-5\n",
    "\n",
    "def get_model(inp, patch_op):\n",
    "    icnn = LL.DenseLayer(inp, 16)\n",
    "    icnn = batch_norm(utils_lasagne.GCNNLayer([icnn, patch_op], 16, nrings=5, nrays=16))\n",
    "    icnn = batch_norm(utils_lasagne.GCNNLayer([icnn, patch_op], 32, nrings=5, nrays=16))\n",
    "    icnn = batch_norm(utils_lasagne.GCNNLayer([icnn, patch_op], 64, nrings=5, nrays=16))\n",
    "    ffn = batch_norm(LL.DenseLayer(icnn, 512))\n",
    "    ffn = LL.DenseLayer(icnn, nclasses, nonlinearity=utils_lasagne.log_softmax)\n",
    "\n",
    "    return ffn\n",
    "\n",
    "inp = LL.InputLayer(shape=(None, nin))\n",
    "patch_op = LL.InputLayer(input_var=Tsp.csc_fmatrix('patch_op'), shape=(None, None))\n",
    "\n",
    "ffn = get_model(inp, patch_op)\n",
    "\n",
    "# L.layers.get_output -> theano variable representing network\n",
    "output = LL.get_output(ffn)\n",
    "pred = LL.get_output(ffn, deterministic=True)  # in case we use dropout\n",
    "\n",
    "# target theano variable indicatind the index a vertex should be mapped to wrt the latent space\n",
    "target = T.ivector('idxs')\n",
    "\n",
    "# to work with logit predictions, better behaved numerically\n",
    "cla = utils_lasagne.categorical_crossentropy_logdomain(output, target, nclasses).mean()\n",
    "acc = LO.categorical_accuracy(pred, target).mean()\n",
    "\n",
    "# a bit of regularization is commonly used\n",
    "regL2 = L.regularization.regularize_network_params(ffn, L.regularization.l2)\n",
    "\n",
    "\n",
    "cost = cla + l2_weight * regL2"
   ]
  },
  {
   "cell_type": "markdown",
   "metadata": {},
   "source": [
    "## Define the update rule, how to train"
   ]
  },
  {
   "cell_type": "code",
   "execution_count": 4,
   "metadata": {
    "collapsed": false
   },
   "outputs": [],
   "source": [
    "params = LL.get_all_params(ffn, trainable=True)\n",
    "grads = T.grad(cost, params)\n",
    "# computes the L2 norm of the gradient to better inspect training\n",
    "grads_norm = T.nlinalg.norm(T.concatenate([g.flatten() for g in grads]), 2)\n",
    "\n",
    "# Adam turned out to be a very good choice for correspondence\n",
    "updates = L.updates.adam(grads, params, learning_rate=0.001)"
   ]
  },
  {
   "cell_type": "markdown",
   "metadata": {},
   "source": [
    "## Compile"
   ]
  },
  {
   "cell_type": "code",
   "execution_count": 5,
   "metadata": {
    "collapsed": false
   },
   "outputs": [],
   "source": [
    "funcs = dict()\n",
    "funcs['train'] = theano.function([inp.input_var, patch_op.input_var, target],\n",
    "                                 [cost, cla, l2_weight * regL2, grads_norm, acc], updates=updates,\n",
    "                                 on_unused_input='warn')\n",
    "funcs['acc_loss'] = theano.function([inp.input_var, patch_op.input_var, target],\n",
    "                                    [acc, cost], on_unused_input='warn')\n",
    "funcs['predict'] = theano.function([inp.input_var, patch_op.input_var],\n",
    "                                   [pred], on_unused_input='warn')"
   ]
  },
  {
   "cell_type": "markdown",
   "metadata": {},
   "source": [
    "# Training (a bit simplified)"
   ]
  },
  {
   "cell_type": "code",
   "execution_count": 6,
   "metadata": {
    "collapsed": false
   },
   "outputs": [
    {
     "name": "stdout",
     "output_type": "stream",
     "text": [
      "[Epoch 000][trn] cost  8.263865 (cla 8.2580, reg 0.0058), |grad| = 0.302113, acc = 0.16372 % (79.53sec)\n",
      "           [tst] cost  7.652055, acc = 0.44557 %\n",
      "[Epoch 001][trn] cost  7.164465 (cla 7.1462, reg 0.0183), |grad| = 0.639100, acc = 0.89608 % (79.74sec)\n",
      "           [tst] cost  6.740292, acc = 1.62627 %"
     ]
    },
    {
     "name": "stderr",
     "output_type": "stream",
     "text": [
      "ERROR:root:[KVP] Overwriting group best_train_params!\n",
      "ERROR:root:[KVP] Overwriting group best_test_params!\n"
     ]
    },
    {
     "name": "stdout",
     "output_type": "stream",
     "text": [
      "\n",
      "[Epoch 002][trn] cost  6.384763 (cla 6.3488, reg 0.0359), |grad| = 1.029185, acc = 2.27692 % (79.65sec)\n",
      "           [tst] cost  6.108521, acc = 3.08273 %"
     ]
    },
    {
     "name": "stderr",
     "output_type": "stream",
     "text": [
      "ERROR:root:[KVP] Overwriting group best_train_params!\n",
      "ERROR:root:[KVP] Overwriting group best_test_params!\n"
     ]
    },
    {
     "name": "stdout",
     "output_type": "stream",
     "text": [
      "\n",
      "[Epoch 003][trn] cost  5.784210 (cla 5.7301, reg 0.0541), |grad| = 1.183987, acc = 5.06328 % (79.66sec)\n",
      "           [tst] cost  5.605332, acc = 5.60668 %"
     ]
    },
    {
     "name": "stderr",
     "output_type": "stream",
     "text": [
      "ERROR:root:[KVP] Overwriting group best_train_params!\n",
      "ERROR:root:[KVP] Overwriting group best_test_params!\n"
     ]
    },
    {
     "name": "stdout",
     "output_type": "stream",
     "text": [
      "\n",
      "[Epoch 004][trn] cost  5.330642 (cla 5.2584, reg 0.0722), |grad| = 1.613608, acc = 7.11205 % (79.83sec)\n",
      "           [tst] cost  5.170452, acc = 8.92453 %"
     ]
    },
    {
     "name": "stderr",
     "output_type": "stream",
     "text": [
      "ERROR:root:[KVP] Overwriting group best_train_params!\n",
      "ERROR:root:[KVP] Overwriting group best_test_params!\n"
     ]
    },
    {
     "name": "stdout",
     "output_type": "stream",
     "text": [
      "\n",
      "[Epoch 005][trn] cost  4.876376 (cla 4.7856, reg 0.0908), |grad| = 1.776353, acc = 11.73556 % (79.55sec)\n",
      "           [tst] cost  4.813673, acc = 12.49782 %"
     ]
    },
    {
     "name": "stderr",
     "output_type": "stream",
     "text": [
      "ERROR:root:[KVP] Overwriting group best_train_params!\n",
      "ERROR:root:[KVP] Overwriting group best_test_params!\n"
     ]
    },
    {
     "name": "stdout",
     "output_type": "stream",
     "text": [
      "\n",
      "[Epoch 006][trn] cost  4.484390 (cla 4.3740, reg 0.1104), |grad| = 1.964077, acc = 16.12975 % (79.50sec)\n",
      "           [tst] cost  4.468974, acc = 17.67562 %"
     ]
    },
    {
     "name": "stderr",
     "output_type": "stream",
     "text": [
      "ERROR:root:[KVP] Overwriting group best_train_params!\n",
      "ERROR:root:[KVP] Overwriting group best_test_params!\n"
     ]
    },
    {
     "name": "stdout",
     "output_type": "stream",
     "text": [
      "\n",
      "[Epoch 007][trn] cost  4.124386 (cla 3.9936, reg 0.1308), |grad| = 2.366299, acc = 20.86705 % (79.85sec)\n",
      "           [tst] cost  4.096233, acc = 22.62192 %"
     ]
    },
    {
     "name": "stderr",
     "output_type": "stream",
     "text": [
      "ERROR:root:[KVP] Overwriting group best_train_params!\n",
      "ERROR:root:[KVP] Overwriting group best_test_params!\n"
     ]
    },
    {
     "name": "stdout",
     "output_type": "stream",
     "text": [
      "\n",
      "[Epoch 008][trn] cost  3.765558 (cla 3.6142, reg 0.1513), |grad| = 2.424714, acc = 26.63454 % (79.92sec)\n",
      "           [tst] cost  3.886627, acc = 24.10015 %"
     ]
    },
    {
     "name": "stderr",
     "output_type": "stream",
     "text": [
      "ERROR:root:[KVP] Overwriting group best_train_params!\n",
      "ERROR:root:[KVP] Overwriting group best_test_params!\n"
     ]
    },
    {
     "name": "stdout",
     "output_type": "stream",
     "text": [
      "\n",
      "[Epoch 009][trn] cost  3.493567 (cla 3.3224, reg 0.1712), |grad| = 2.708720, acc = 30.17794 % (79.56sec)\n",
      "           [tst] cost  3.561346, acc = 30.16473 %"
     ]
    },
    {
     "name": "stderr",
     "output_type": "stream",
     "text": [
      "ERROR:root:[KVP] Overwriting group best_train_params!\n",
      "ERROR:root:[KVP] Overwriting group best_test_params!\n"
     ]
    },
    {
     "name": "stdout",
     "output_type": "stream",
     "text": [
      "\n",
      "[Epoch 010][trn] cost  3.261285 (cla 3.0721, reg 0.1892), |grad| = 2.939086, acc = 33.46589 % (79.79sec)\n",
      "           [tst] cost  3.478021, acc = 29.89042 %"
     ]
    },
    {
     "name": "stderr",
     "output_type": "stream",
     "text": [
      "ERROR:root:[KVP] Overwriting group best_train_params!\n",
      "ERROR:root:[KVP] Overwriting group best_test_params!\n"
     ]
    },
    {
     "name": "stdout",
     "output_type": "stream",
     "text": [
      "\n",
      "[Epoch 011][trn] cost  3.041351 (cla 2.8358, reg 0.2056), |grad| = 2.937469, acc = 36.29028 % (79.68sec)\n",
      "           [tst] cost  3.253378, acc = 32.62119 %"
     ]
    },
    {
     "name": "stderr",
     "output_type": "stream",
     "text": [
      "ERROR:root:[KVP] Overwriting group best_train_params!\n",
      "ERROR:root:[KVP] Overwriting group best_test_params!\n"
     ]
    },
    {
     "name": "stdout",
     "output_type": "stream",
     "text": [
      "\n",
      "[Epoch 012][trn] cost  2.855900 (cla 2.6357, reg 0.2202), |grad| = 2.807044, acc = 40.07896 % (79.85sec)\n",
      "           [tst] cost  3.073090, acc = 36.86647 %"
     ]
    },
    {
     "name": "stderr",
     "output_type": "stream",
     "text": [
      "ERROR:root:[KVP] Overwriting group best_train_params!\n",
      "ERROR:root:[KVP] Overwriting group best_test_params!\n"
     ]
    },
    {
     "name": "stdout",
     "output_type": "stream",
     "text": [
      "\n",
      "[Epoch 013][trn] cost  2.784056 (cla 2.5511, reg 0.2329), |grad| = 3.091823, acc = 40.08186 % (79.55sec)\n",
      "           [tst] cost  2.949273, acc = 38.68142 %"
     ]
    },
    {
     "name": "stderr",
     "output_type": "stream",
     "text": [
      "ERROR:root:[KVP] Overwriting group best_train_params!\n",
      "ERROR:root:[KVP] Overwriting group best_test_params!\n"
     ]
    },
    {
     "name": "stdout",
     "output_type": "stream",
     "text": [
      "\n",
      "[Epoch 014][trn] cost  2.644747 (cla 2.4012, reg 0.2435), |grad| = 3.229594, acc = 42.66328 % (79.55sec)\n",
      "           [tst] cost  2.801290, acc = 40.79681 %"
     ]
    },
    {
     "name": "stderr",
     "output_type": "stream",
     "text": [
      "ERROR:root:[KVP] Overwriting group best_train_params!\n",
      "ERROR:root:[KVP] Overwriting group best_test_params!\n"
     ]
    },
    {
     "name": "stdout",
     "output_type": "stream",
     "text": [
      "\n",
      "[Epoch 015][trn] cost  2.398269 (cla 2.1454, reg 0.2529), |grad| = 2.785271, acc = 48.78636 % (79.68sec)\n",
      "           [tst] cost  2.738394, acc = 43.21553 %"
     ]
    },
    {
     "name": "stderr",
     "output_type": "stream",
     "text": [
      "ERROR:root:[KVP] Overwriting group best_train_params!\n",
      "ERROR:root:[KVP] Overwriting group best_test_params!\n"
     ]
    },
    {
     "name": "stdout",
     "output_type": "stream",
     "text": [
      "\n",
      "[Epoch 016][trn] cost  2.391456 (cla 2.1302, reg 0.2613), |grad| = 2.944764, acc = 48.42293 % (79.64sec)\n",
      "           [tst] cost  2.640884, acc = 44.01016 %"
     ]
    },
    {
     "name": "stderr",
     "output_type": "stream",
     "text": [
      "ERROR:root:[KVP] Overwriting group best_train_params!\n",
      "ERROR:root:[KVP] Overwriting group best_test_params!\n"
     ]
    },
    {
     "name": "stdout",
     "output_type": "stream",
     "text": [
      "\n",
      "[Epoch 017][trn] cost  2.285096 (cla 2.0166, reg 0.2685), |grad| = 3.116158, acc = 49.65864 % (80.01sec)\n",
      "           [tst] cost  2.599144, acc = 44.51306 %"
     ]
    },
    {
     "name": "stderr",
     "output_type": "stream",
     "text": [
      "ERROR:root:[KVP] Overwriting group best_train_params!\n",
      "ERROR:root:[KVP] Overwriting group best_test_params!\n"
     ]
    },
    {
     "name": "stdout",
     "output_type": "stream",
     "text": [
      "\n",
      "[Epoch 018][trn] cost  2.131052 (cla 1.8564, reg 0.2747), |grad| = 2.796177, acc = 53.69463 % (79.71sec)\n",
      "           [tst] cost  2.519716, acc = 46.12337 %"
     ]
    },
    {
     "name": "stderr",
     "output_type": "stream",
     "text": [
      "ERROR:root:[KVP] Overwriting group best_train_params!\n",
      "ERROR:root:[KVP] Overwriting group best_test_params!\n"
     ]
    },
    {
     "name": "stdout",
     "output_type": "stream",
     "text": [
      "\n",
      "[Epoch 019][trn] cost  2.087741 (cla 1.8077, reg 0.2801), |grad| = 2.880122, acc = 54.04180 % (79.54sec)\n",
      "           [tst] cost  2.425654, acc = 48.16110 %"
     ]
    },
    {
     "name": "stderr",
     "output_type": "stream",
     "text": [
      "ERROR:root:[KVP] Overwriting group best_train_params!\n",
      "ERROR:root:[KVP] Overwriting group best_test_params!\n"
     ]
    },
    {
     "name": "stdout",
     "output_type": "stream",
     "text": [
      "\n",
      "[Epoch 020][trn] cost  2.016471 (cla 1.7318, reg 0.2847), |grad| = 2.763553, acc = 55.72598 % (79.57sec)\n",
      "           [tst] cost  2.374363, acc = 48.78737 %"
     ]
    },
    {
     "name": "stderr",
     "output_type": "stream",
     "text": [
      "ERROR:root:[KVP] Overwriting group best_train_params!\n",
      "ERROR:root:[KVP] Overwriting group best_test_params!\n"
     ]
    },
    {
     "name": "stdout",
     "output_type": "stream",
     "text": [
      "\n",
      "[Epoch 021][trn] cost  1.999302 (cla 1.7106, reg 0.2887), |grad| = 2.893507, acc = 55.83687 % (79.80sec)\n",
      "           [tst] cost  2.324719, acc = 49.86067 %"
     ]
    },
    {
     "name": "stderr",
     "output_type": "stream",
     "text": [
      "ERROR:root:[KVP] Overwriting group best_train_params!\n",
      "ERROR:root:[KVP] Overwriting group best_test_params!\n"
     ]
    },
    {
     "name": "stdout",
     "output_type": "stream",
     "text": [
      "\n",
      "[Epoch 022][trn] cost  1.978112 (cla 1.6861, reg 0.2920), |grad| = 3.111092, acc = 55.75327 % (79.79sec)\n",
      "           [tst] cost  2.285119, acc = 50.57257 %"
     ]
    },
    {
     "name": "stderr",
     "output_type": "stream",
     "text": [
      "ERROR:root:[KVP] Overwriting group best_train_params!\n",
      "ERROR:root:[KVP] Overwriting group best_test_params!\n"
     ]
    },
    {
     "name": "stdout",
     "output_type": "stream",
     "text": [
      "\n",
      "[Epoch 023][trn] cost  1.881592 (cla 1.5867, reg 0.2949), |grad| = 2.958950, acc = 57.60668 % (79.56sec)\n",
      "           [tst] cost  2.247051, acc = 51.55443 %"
     ]
    },
    {
     "name": "stderr",
     "output_type": "stream",
     "text": [
      "ERROR:root:[KVP] Overwriting group best_train_params!\n",
      "ERROR:root:[KVP] Overwriting group best_test_params!\n"
     ]
    },
    {
     "name": "stdout",
     "output_type": "stream",
     "text": [
      "\n",
      "[Epoch 024][trn] cost  1.856305 (cla 1.5591, reg 0.2972), |grad| = 2.752367, acc = 58.75965 % (79.55sec)\n",
      "           [tst] cost  2.196439, acc = 52.42453 %"
     ]
    },
    {
     "name": "stderr",
     "output_type": "stream",
     "text": [
      "ERROR:root:[KVP] Overwriting group best_train_params!\n",
      "ERROR:root:[KVP] Overwriting group best_test_params!\n"
     ]
    },
    {
     "name": "stdout",
     "output_type": "stream",
     "text": [
      "\n",
      "[Epoch 025][trn] cost  1.820506 (cla 1.5213, reg 0.2992), |grad| = 2.813925, acc = 59.22003 % (79.60sec)\n",
      "           [tst] cost  2.191267, acc = 52.33890 %"
     ]
    },
    {
     "name": "stderr",
     "output_type": "stream",
     "text": [
      "ERROR:root:[KVP] Overwriting group best_train_params!\n",
      "ERROR:root:[KVP] Overwriting group best_test_params!\n"
     ]
    },
    {
     "name": "stdout",
     "output_type": "stream",
     "text": [
      "\n",
      "[Epoch 026][trn] cost  1.795357 (cla 1.4947, reg 0.3007), |grad| = 2.913881, acc = 59.70334 % (79.58sec)\n",
      "           [tst] cost  2.100697, acc = 54.51306 %"
     ]
    },
    {
     "name": "stderr",
     "output_type": "stream",
     "text": [
      "ERROR:root:[KVP] Overwriting group best_train_params!\n",
      "ERROR:root:[KVP] Overwriting group best_test_params!\n"
     ]
    },
    {
     "name": "stdout",
     "output_type": "stream",
     "text": [
      "\n",
      "[Epoch 027][trn] cost  1.671942 (cla 1.3701, reg 0.3018), |grad| = 2.562076, acc = 63.66996 % (79.64sec)\n",
      "           [tst] cost  2.105608, acc = 53.97242 %"
     ]
    },
    {
     "name": "stderr",
     "output_type": "stream",
     "text": [
      "ERROR:root:[KVP] Overwriting group best_train_params!\n"
     ]
    },
    {
     "name": "stdout",
     "output_type": "stream",
     "text": [
      "\n",
      "[Epoch 028][trn] cost  1.675804 (cla 1.3731, reg 0.3027), |grad| = 2.803007, acc = 62.52250 % (79.57sec)\n",
      "           [tst] cost  2.104926, acc = 54.02322 %\n",
      "[Epoch 029][trn] cost  1.715716 (cla 1.4123, reg 0.3034), |grad| = 2.719257, acc = 60.69840 % (79.56sec)\n",
      "           [tst] cost  2.023764, acc = 55.88462 %"
     ]
    },
    {
     "name": "stderr",
     "output_type": "stream",
     "text": [
      "ERROR:root:[KVP] Overwriting group best_test_params!\n"
     ]
    },
    {
     "name": "stdout",
     "output_type": "stream",
     "text": [
      "\n",
      "[Epoch 030][trn] cost  1.612334 (cla 1.3083, reg 0.3040), |grad| = 2.595838, acc = 63.64673 % (79.59sec)\n",
      "           [tst] cost  2.097730, acc = 53.75544 %"
     ]
    },
    {
     "name": "stderr",
     "output_type": "stream",
     "text": [
      "ERROR:root:[KVP] Overwriting group best_train_params!\n"
     ]
    },
    {
     "name": "stdout",
     "output_type": "stream",
     "text": [
      "\n",
      "[Epoch 031][trn] cost  1.566938 (cla 1.2626, reg 0.3044), |grad| = 2.613621, acc = 65.87315 % (79.69sec)\n",
      "           [tst] cost  1.992204, acc = 56.70174 %"
     ]
    },
    {
     "name": "stderr",
     "output_type": "stream",
     "text": [
      "ERROR:root:[KVP] Overwriting group best_train_params!\n",
      "ERROR:root:[KVP] Overwriting group best_test_params!\n"
     ]
    },
    {
     "name": "stdout",
     "output_type": "stream",
     "text": [
      "\n",
      "[Epoch 032][trn] cost  1.552004 (cla 1.2474, reg 0.3046), |grad| = 2.758843, acc = 65.22293 % (79.68sec)\n",
      "           [tst] cost  2.014049, acc = 56.29681 %"
     ]
    },
    {
     "name": "stderr",
     "output_type": "stream",
     "text": [
      "ERROR:root:[KVP] Overwriting group best_train_params!\n"
     ]
    },
    {
     "name": "stdout",
     "output_type": "stream",
     "text": [
      "\n",
      "[Epoch 033][trn] cost  1.528363 (cla 1.2236, reg 0.3048), |grad| = 2.635882, acc = 65.61190 % (79.74sec)\n",
      "           [tst] cost  1.982990, acc = 57.00073 %"
     ]
    },
    {
     "name": "stderr",
     "output_type": "stream",
     "text": [
      "ERROR:root:[KVP] Overwriting group best_train_params!\n",
      "ERROR:root:[KVP] Overwriting group best_test_params!\n"
     ]
    },
    {
     "name": "stdout",
     "output_type": "stream",
     "text": [
      "\n",
      "[Epoch 034][trn] cost  1.497893 (cla 1.1931, reg 0.3048), |grad| = 2.607951, acc = 66.00493 % (79.64sec)\n",
      "           [tst] cost  2.003280, acc = 55.33672 %"
     ]
    },
    {
     "name": "stderr",
     "output_type": "stream",
     "text": [
      "ERROR:root:[KVP] Overwriting group best_train_params!\n"
     ]
    },
    {
     "name": "stdout",
     "output_type": "stream",
     "text": [
      "\n",
      "[Epoch 035][trn] cost  1.430556 (cla 1.1259, reg 0.3046), |grad| = 2.380381, acc = 68.08099 % (79.63sec)\n",
      "           [tst] cost  1.919752, acc = 57.65385 %"
     ]
    },
    {
     "name": "stderr",
     "output_type": "stream",
     "text": [
      "ERROR:root:[KVP] Overwriting group best_train_params!\n",
      "ERROR:root:[KVP] Overwriting group best_test_params!\n"
     ]
    },
    {
     "name": "stdout",
     "output_type": "stream",
     "text": [
      "\n",
      "[Epoch 036][trn] cost  1.443496 (cla 1.1392, reg 0.3043), |grad| = 2.516162, acc = 67.97649 % (79.60sec)\n",
      "           [tst] cost  1.900473, acc = 57.70900 %"
     ]
    },
    {
     "name": "stderr",
     "output_type": "stream",
     "text": [
      "ERROR:root:[KVP] Overwriting group best_test_params!\n"
     ]
    },
    {
     "name": "stdout",
     "output_type": "stream",
     "text": [
      "\n",
      "[Epoch 037][trn] cost  1.427465 (cla 1.1236, reg 0.3039), |grad| = 2.382199, acc = 68.13614 % (79.67sec)\n",
      "           [tst] cost  1.900680, acc = 58.75689 %"
     ]
    },
    {
     "name": "stderr",
     "output_type": "stream",
     "text": [
      "ERROR:root:[KVP] Overwriting group best_train_params!\n"
     ]
    },
    {
     "name": "stdout",
     "output_type": "stream",
     "text": [
      "\n",
      "[Epoch 038][trn] cost  1.380532 (cla 1.0771, reg 0.3034), |grad| = 2.345183, acc = 69.56284 % (79.58sec)\n",
      "           [tst] cost  1.877321, acc = 58.84688 %"
     ]
    },
    {
     "name": "stderr",
     "output_type": "stream",
     "text": [
      "ERROR:root:[KVP] Overwriting group best_train_params!\n",
      "ERROR:root:[KVP] Overwriting group best_test_params!\n"
     ]
    },
    {
     "name": "stdout",
     "output_type": "stream",
     "text": [
      "\n",
      "[Epoch 039][trn] cost  1.375391 (cla 1.0723, reg 0.3030), |grad| = 2.557280, acc = 69.21306 % (79.56sec)\n",
      "           [tst] cost  1.873309, acc = 59.00798 %"
     ]
    },
    {
     "name": "stderr",
     "output_type": "stream",
     "text": [
      "ERROR:root:[KVP] Overwriting group best_train_params!\n",
      "ERROR:root:[KVP] Overwriting group best_test_params!\n"
     ]
    },
    {
     "name": "stdout",
     "output_type": "stream",
     "text": [
      "\n",
      "[Epoch 040][trn] cost  1.395541 (cla 1.0930, reg 0.3025), |grad| = 2.768084, acc = 67.93411 % (79.58sec)\n",
      "           [tst] cost  1.854573, acc = 59.59434 %"
     ]
    },
    {
     "name": "stderr",
     "output_type": "stream",
     "text": [
      "ERROR:root:[KVP] Overwriting group best_test_params!\n"
     ]
    },
    {
     "name": "stdout",
     "output_type": "stream",
     "text": [
      "\n",
      "[Epoch 041][trn] cost  1.309397 (cla 1.0076, reg 0.3018), |grad| = 2.352506, acc = 71.50624 % (79.62sec)\n",
      "           [tst] cost  1.831929, acc = 59.44848 %"
     ]
    },
    {
     "name": "stderr",
     "output_type": "stream",
     "text": [
      "ERROR:root:[KVP] Overwriting group best_train_params!\n",
      "ERROR:root:[KVP] Overwriting group best_test_params!\n"
     ]
    },
    {
     "name": "stdout",
     "output_type": "stream",
     "text": [
      "\n",
      "[Epoch 042][trn] cost  1.285166 (cla 0.9842, reg 0.3010), |grad| = 2.375362, acc = 71.96865 % (79.73sec)\n",
      "           [tst] cost  1.825582, acc = 59.69158 %"
     ]
    },
    {
     "name": "stderr",
     "output_type": "stream",
     "text": [
      "ERROR:root:[KVP] Overwriting group best_train_params!\n",
      "ERROR:root:[KVP] Overwriting group best_test_params!\n"
     ]
    },
    {
     "name": "stdout",
     "output_type": "stream",
     "text": [
      "\n",
      "[Epoch 043][trn] cost  1.272696 (cla 0.9724, reg 0.3003), |grad| = 2.218854, acc = 72.36865 % (79.67sec)\n",
      "           [tst] cost  1.794631, acc = 60.76705 %"
     ]
    },
    {
     "name": "stderr",
     "output_type": "stream",
     "text": [
      "ERROR:root:[KVP] Overwriting group best_train_params!\n",
      "ERROR:root:[KVP] Overwriting group best_test_params!\n"
     ]
    },
    {
     "name": "stdout",
     "output_type": "stream",
     "text": [
      "\n",
      "[Epoch 044][trn] cost  1.299418 (cla 1.0001, reg 0.2993), |grad| = 2.432765, acc = 71.12163 % (79.95sec)\n",
      "           [tst] cost  1.816912, acc = 59.64006 %\n",
      "[Epoch 045][trn] cost  1.296870 (cla 0.9984, reg 0.2984), |grad| = 2.291284, acc = 71.07257 % (79.66sec)\n",
      "           [tst] cost  1.772891, acc = 60.80334 %"
     ]
    },
    {
     "name": "stderr",
     "output_type": "stream",
     "text": [
      "ERROR:root:[KVP] Overwriting group best_test_params!\n"
     ]
    },
    {
     "name": "stdout",
     "output_type": "stream",
     "text": [
      "\n",
      "[Epoch 046][trn] cost  1.345348 (cla 1.0477, reg 0.2977), |grad| = 2.622681, acc = 68.58374 % (79.64sec)\n",
      "           [tst] cost  1.787899, acc = 60.39042 %\n",
      "[Epoch 047][trn] cost  1.297988 (cla 1.0008, reg 0.2972), |grad| = 2.395080, acc = 69.94107 % (79.56sec)\n",
      "           [tst] cost  1.788456, acc = 60.12700 %\n",
      "[Epoch 048][trn] cost  1.232544 (cla 0.9360, reg 0.2965), |grad| = 2.377188, acc = 72.44035 % (79.56sec)\n",
      "           [tst] cost  1.774325, acc = 60.77286 %"
     ]
    },
    {
     "name": "stderr",
     "output_type": "stream",
     "text": [
      "ERROR:root:[KVP] Overwriting group best_train_params!\n"
     ]
    },
    {
     "name": "stdout",
     "output_type": "stream",
     "text": [
      "\n",
      "[Epoch 049][trn] cost  1.197789 (cla 0.9024, reg 0.2954), |grad| = 2.300236, acc = 73.37533 % (79.71sec)\n",
      "           [tst] cost  1.737565, acc = 61.66546 %"
     ]
    },
    {
     "name": "stderr",
     "output_type": "stream",
     "text": [
      "ERROR:root:[KVP] Overwriting group best_train_params!\n",
      "ERROR:root:[KVP] Overwriting group best_test_params!\n"
     ]
    },
    {
     "name": "stdout",
     "output_type": "stream",
     "text": [
      "\n",
      "...done training 4887.262262\n"
     ]
    }
   ],
   "source": [
    "n_epochs = 50\n",
    "eval_freq = 1\n",
    "\n",
    "start_time = time.time()\n",
    "best_trn = 1e5\n",
    "best_tst = 1e5\n",
    "\n",
    "kvs = snapshotter.Snapshotter('demo_training.snap')\n",
    "\n",
    "for it_count in xrange(n_epochs):\n",
    "    tic = time.time()\n",
    "    b_l, b_c, b_s, b_r, b_g, b_a = [], [], [], [], [], []\n",
    "    for x_ in ds.train_iter():\n",
    "        tmp = funcs['train'](*x_)\n",
    "\n",
    "        # do some book keeping (store stuff for training curves etc)\n",
    "        b_l.append(tmp[0])\n",
    "        b_c.append(tmp[1])\n",
    "        b_r.append(tmp[2])\n",
    "        b_g.append(tmp[3])\n",
    "        b_a.append(tmp[4])\n",
    "    epoch_cost = np.asarray([np.mean(b_l), np.mean(b_c), np.mean(b_r), np.mean(b_g), np.mean(b_a)])\n",
    "    print(('[Epoch %03i][trn] cost %9.6f (cla %6.4f, reg %6.4f), |grad| = %.06f, acc = %7.5f %% (%.2fsec)') %\n",
    "                 (it_count, epoch_cost[0], epoch_cost[1], epoch_cost[2], epoch_cost[3], epoch_cost[4] * 100, \n",
    "                  time.time() - tic))\n",
    "\n",
    "    if np.isnan(epoch_cost[0]):\n",
    "        print(\"NaN in the loss function...let's stop here\")\n",
    "        break\n",
    "\n",
    "    if (it_count % eval_freq) == 0:\n",
    "        v_c, v_a = [], []\n",
    "        for x_ in ds.test_iter():\n",
    "            tmp = funcs['acc_loss'](*x_)\n",
    "            v_a.append(tmp[0])\n",
    "            v_c.append(tmp[1])\n",
    "        test_cost = [np.mean(v_c), np.mean(v_a)]\n",
    "        print(('           [tst] cost %9.6f, acc = %7.5f %%') % (test_cost[0], test_cost[1] * 100))\n",
    "\n",
    "        if epoch_cost[0] < best_trn:\n",
    "            kvs.store('best_train_params', [it_count, LL.get_all_param_values(ffn)])\n",
    "            best_trn = epoch_cost[0]\n",
    "        if test_cost[0] < best_tst:\n",
    "            kvs.store('best_test_params', [it_count, LL.get_all_param_values(ffn)])\n",
    "            best_tst = test_cost[0]\n",
    "print(\"...done training %f\" % (time.time() - start_time))"
   ]
  },
  {
   "cell_type": "markdown",
   "metadata": {},
   "source": [
    "# Test phase\n",
    "Now that the model is train it is enough to take the fwd function and apply it to new data."
   ]
  },
  {
   "cell_type": "code",
   "execution_count": 7,
   "metadata": {
    "collapsed": false
   },
   "outputs": [
    {
     "name": "stdout",
     "output_type": "stream",
     "text": [
      "Saving output to: /tmp/EG16_tutorial/dumps/\n",
      "/tmp/EG16_tutorial/dumps/tr_reg_080.mat , Acc: 65.68940 %\n",
      "/tmp/EG16_tutorial/dumps/tr_reg_081.mat , Acc: 58.96952 %\n",
      "/tmp/EG16_tutorial/dumps/tr_reg_082.mat , Acc: 62.80116 %\n",
      "/tmp/EG16_tutorial/dumps/tr_reg_083.mat , Acc: 60.97242 %\n",
      "/tmp/EG16_tutorial/dumps/tr_reg_084.mat , Acc: 62.45283 %\n",
      "/tmp/EG16_tutorial/dumps/tr_reg_085.mat , Acc: 62.72859 %\n",
      "/tmp/EG16_tutorial/dumps/tr_reg_086.mat , Acc: 50.04354 %\n",
      "/tmp/EG16_tutorial/dumps/tr_reg_087.mat , Acc: 58.75181 %\n",
      "/tmp/EG16_tutorial/dumps/tr_reg_088.mat , Acc: 63.68650 %\n",
      "/tmp/EG16_tutorial/dumps/tr_reg_089.mat , Acc: 65.32656 %\n",
      "/tmp/EG16_tutorial/dumps/tr_reg_090.mat , Acc: 66.93759 %\n",
      "/tmp/EG16_tutorial/dumps/tr_reg_091.mat , Acc: 65.45718 %\n",
      "/tmp/EG16_tutorial/dumps/tr_reg_092.mat , Acc: 61.59652 %\n",
      "/tmp/EG16_tutorial/dumps/tr_reg_093.mat , Acc: 65.48621 %\n",
      "/tmp/EG16_tutorial/dumps/tr_reg_094.mat , Acc: 60.76923 %\n",
      "/tmp/EG16_tutorial/dumps/tr_reg_095.mat , Acc: 66.98113 %\n",
      "/tmp/EG16_tutorial/dumps/tr_reg_096.mat , Acc: 62.27866 %\n",
      "/tmp/EG16_tutorial/dumps/tr_reg_097.mat , Acc: 61.81422 %\n",
      "/tmp/EG16_tutorial/dumps/tr_reg_098.mat , Acc: 48.14224 %\n",
      "/tmp/EG16_tutorial/dumps/tr_reg_099.mat , Acc: 65.50073 %\n",
      "\n",
      "Average accuracy across all shapes: 61.81930 %\n"
     ]
    }
   ],
   "source": [
    "rewrite = True\n",
    "\n",
    "out_path = '/tmp/EG16_tutorial/dumps/' \n",
    "print \"Saving output to: %s\" % out_path\n",
    "\n",
    "if not os.path.isdir(out_path) or rewrite==True:\n",
    "    try:\n",
    "        os.makedirs(out_path)\n",
    "    except:\n",
    "        pass\n",
    "    \n",
    "    a = []\n",
    "    for i,d in enumerate(ds.test_iter()):\n",
    "        fname = os.path.join(out_path, \"%s\" % ds.test_fnames[i])\n",
    "        print fname,\n",
    "        tmp = funcs['predict'](d[0], d[1])[0]\n",
    "        a.append(np.mean(np.argmax(tmp, axis=1).flatten() == d[2].flatten()))\n",
    "        scipy.io.savemat(fname, {'desc': tmp})\n",
    "        print \", Acc: %7.5f %%\" % (a[-1] * 100.0)\n",
    "    print \"\\nAverage accuracy across all shapes: %7.5f %%\" % (np.mean(a) * 100.0)\n",
    "else:\n",
    "    print \"Model predictions already produced.\""
   ]
  },
  {
   "cell_type": "markdown",
   "metadata": {},
   "source": [
    "# Results"
   ]
  },
  {
   "cell_type": "markdown",
   "metadata": {},
   "source": [
    "![](http://www.people.usi.ch/mascij/EG16_tutorial/shapenet_corr.png)"
   ]
  }
 ],
 "metadata": {
  "kernelspec": {
   "display_name": "Python 2",
   "language": "python",
   "name": "python2"
  },
  "language_info": {
   "codemirror_mode": {
    "name": "ipython",
    "version": 2
   },
   "file_extension": ".py",
   "mimetype": "text/x-python",
   "name": "python",
   "nbconvert_exporter": "python",
   "pygments_lexer": "ipython2",
   "version": "2.7.6"
  }
 },
 "nbformat": 4,
 "nbformat_minor": 0
}
